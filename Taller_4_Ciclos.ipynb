{
  "cells": [
    {
      "cell_type": "markdown",
      "id": "66beb5a1",
      "metadata": {
        "id": "66beb5a1"
      },
      "source": [
        "# Fundamentos de Programación para Ingeniería Mecánica\n",
        "## UPB Montería - 202310\n",
        "### Taller 4: Ciclos\n",
        "- Docente: Miguel Ortiz (miguel.ortizp@upb.edu.co)"
      ]
    },
    {
      "cell_type": "markdown",
      "id": "b4381f55",
      "metadata": {
        "id": "b4381f55"
      },
      "source": [
        "Datos del Estudiante:\n",
        "- Nombre:Juan Sebastián Arteaga Gómez \n",
        "- ID:000520138 \n",
        "- email: juan.arteagag@upb.edu.co"
      ]
    },
    {
      "cell_type": "markdown",
      "id": "433f35a0",
      "metadata": {
        "id": "433f35a0"
      },
      "source": [
        "Resuelva los siguientes ejercicios utilizando estructuras cíclicas y condicionales."
      ]
    },
    {
      "cell_type": "markdown",
      "id": "aead929b",
      "metadata": {
        "id": "aead929b"
      },
      "source": [
        "### Problema 1: Suma de Elementos (30xp)\n",
        "\n",
        "Indique cuál de los dos números ingresados por el usuario tiene una suma de dígitos mayor y la diferencia de estas sumas. Si las sumas de los dígitos son iguales, infórmelo al usuario. \n",
        "\n",
        "**Ejemplo:**\n",
        "\n",
        "```\n",
        "Ingrese el primer número: 23672646\n",
        "Ingrese el segundo número: 12653686\n",
        "La suma de los elementos de la lista 2 es mayor que la suma de los elementos de la lista 1 en 1 unidades.\n",
        "```\n",
        "\n",
        "**Recomendación:** pruebe su algoritmo con listas de prueba:\n",
        "- `lst_1`: lista que representa el primer número. Por ejemplo: dígitos del número de su documento de identidad\n",
        "- `lst_2`: lista que representa el segundo número. Por ejemplo: dígitos del número de su id\n",
        "\n",
        "**Nota:** para leer un número ingresado por el usuario y convertirlo en lista puede utilizar las siguientes instrucciones:\n",
        "\n",
        "```python\n",
        "num = input('Número: ')\n",
        "lst = [int(x) for x in num]\n",
        "```"
      ]
    },
    {
      "cell_type": "code",
      "execution_count": 20,
      "id": "46b47e9b",
      "metadata": {
        "id": "46b47e9b",
        "outputId": "8aa81946-1532-4957-e573-92b9af855244",
        "colab": {
          "base_uri": "https://localhost:8080/"
        }
      },
      "outputs": [
        {
          "output_type": "stream",
          "name": "stdout",
          "text": [
            "Ingrese el primer número: 12832814\n",
            "Ingrese el segundo número: 1264635467\n",
            "[1, 2, 8, 3, 2, 8, 1, 4]\n",
            "[1, 2, 6, 4, 6, 3, 5, 4, 6, 7]\n",
            "El número cuya suma de dígitos es mayor es: 1264635467 cuyo valor es: 44 con una diferencia de: 15\n"
          ]
        }
      ],
      "source": [
        "numero=(input(\"Ingrese el primer número: \"))\n",
        "numero_2=(input(\"Ingrese el segundo número: \"))\n",
        "lst = [int(x) for x in numero]\n",
        "print(lst)\n",
        "lst2 = [int(x) for x in numero_2]\n",
        "print(lst2)\n",
        "suma_1 = 0\n",
        "suma2 = 0\n",
        "for r in lst:\n",
        "  suma_1 += r\n",
        "for n in lst2:\n",
        "  suma2 += n\n",
        "if suma_1 > suma2:\n",
        "  resta1= suma_1 - suma2\n",
        "  print(\"El número cuya suma de dígitos es mayor es:\", numero, \"cuyo valor es:\", suma_1, \"con una diferencia de:\", resta1)\n",
        "elif suma2 > suma_1:\n",
        "  resta2= suma2 - suma_1\n",
        "  print(\"El número cuya suma de dígitos es mayor es:\", numero_2, \"cuyo valor es:\", suma2, \"con una diferencia de:\", resta2)\n",
        "elif suma_1 == suma2:\n",
        "  print(\"La suma de los dos dígitos son iguales\")\n",
        "else:\n",
        "  print(\"error\")"
      ]
    },
    {
      "cell_type": "markdown",
      "id": "986a4945",
      "metadata": {
        "id": "986a4945"
      },
      "source": [
        "### Problema 2: Suma Objetivo (50xp)\n",
        "\n",
        "Indique si la suma de los dígitos de un número de verificación alcanza un valor objetivo. Si obtiene el valor objetivo antes de finalizar el recorrido por todos los dígitos del número, indique la iteración en la que se obtuvo este valor. Tenga en cuenta que tanto el valor objetivo como el número de verificación son ingresados por el usuario. En cualquiera de los casos, muestre el resultado obtenido de la suma de los dígitos.\n",
        "\n",
        "**Ejemplo:**\n",
        "```\n",
        "Ingrese número de suma objetivo: 15\n",
        "Ingrese número para validar suma de dígitos: 1234562\n",
        "Suma obtenida en iteración 5 de 7\n",
        "Resultado obtenido: 15\n",
        "Alcanzó el valor objetivo.\n",
        "```\n",
        "\n",
        "**Recomendación:** pruebe su algoritmo con números y listas de prueba:\n",
        "- `n_obj`: valor objetivo\n",
        "- `lst`: lista que representa el número de verificación. Por ejemplo: dígitos del número de su id\n",
        "\n",
        "**Nota:** para leer un número ingresado por el usuario y convertirlo en lista puede utilizar las siguientes instrucciones:\n",
        "\n",
        "```python\n",
        "num = input('Número: ')\n",
        "lst = [int(x) for x in num]\n",
        "```"
      ]
    },
    {
      "cell_type": "code",
      "execution_count": 11,
      "id": "895f4399",
      "metadata": {
        "id": "895f4399",
        "outputId": "9f1918ee-7c6b-4bb0-8534-65354aac1a1c",
        "colab": {
          "base_uri": "https://localhost:8080/"
        }
      },
      "outputs": [
        {
          "output_type": "stream",
          "name": "stdout",
          "text": [
            "Número: 6\n",
            "Ingrese el valor de suma objetivo: 1234567\n",
            "6\n",
            "Alcanzó el valor objetivo\n"
          ]
        }
      ],
      "source": [
        "numero = input('Número: ')\n",
        "lista = [int(x) for x in numero]\n",
        "n_obj = input(\"Ingrese el valor de suma objetivo: \")\n",
        "sum = 0\n",
        "for a in lista:\n",
        "  sum +=a\n",
        "  print(sum)\n",
        "  if sum == n_obj:\n",
        "    break\n",
        "print(\"Alcanzó el valor objetivo\")"
      ]
    },
    {
      "cell_type": "markdown",
      "id": "0b532b9b",
      "metadata": {
        "id": "0b532b9b"
      },
      "source": [
        "### Problema 3: Dígito Mayor (40xp)\n",
        "\n",
        "Indique el dígito de mayor valor y su posición en un número ingresado por el usuario. En caso de que el dígito mayor se repita, se debe retornar el índice del primero de ellos que fue encontrado. \n",
        "\n",
        "**Ejemplo:**\n",
        "\n",
        "```\n",
        "Ingrese número: 123753569054\n",
        "El dígito mayor de la lista es 9\n",
        "El número se encontró en la posición 8\n",
        "```\n",
        "\n",
        "**Recomendación:** pruebe su algoritmo con listas de prueba:\n",
        "- `lst`: lista que representa el número a evaluar. Por ejemplo: dígitos del número de su documento de identidad\n",
        "\n",
        "**Nota:** para leer un número ingresado por el usuario y convertirlo en lista puede utilizar las siguientes instrucciones:\n",
        "\n",
        "```python\n",
        "num = input('Número: ')\n",
        "lst = [int(x) for x in num]\n",
        "```"
      ]
    },
    {
      "cell_type": "code",
      "execution_count": 16,
      "id": "9159f388",
      "metadata": {
        "scrolled": true,
        "id": "9159f388",
        "outputId": "a1db8607-d6cc-42d4-c911-f87c1bcb6288",
        "colab": {
          "base_uri": "https://localhost:8080/"
        }
      },
      "outputs": [
        {
          "output_type": "stream",
          "name": "stdout",
          "text": [
            "Ingresa un número: 1239048465\n",
            "El número mayor de la lista es:  9  y su posición es:  3 .\n"
          ]
        }
      ],
      "source": [
        "# Introdusca el digito \n",
        "\n",
        "n = input(\"Ingresa un número: \")\n",
        "\n",
        "# Ubicamos en una lista los valores del número\n",
        "\n",
        "lista = [int(i) for i in n]\n",
        "\n",
        "# Imprimimos el número de mayor valor de la lista y su posición\n",
        "\n",
        "print(\"El número mayor de la lista es: \", max(lista),  \" y su posición es: \", lista.index(max(lista)), \".\")"
      ]
    },
    {
      "cell_type": "markdown",
      "id": "03af9108",
      "metadata": {
        "id": "03af9108"
      },
      "source": [
        "### Problema 4: Valores que coinciden (50xp)\n",
        "\n",
        "Indique las posiciones (índices) en los cuales se encuentran los mismos valores de los dígitos en dos números ingresados por el usuario. El algoritmo debe verificar que los números tengan la misma longitud (igual número de dígitos). Si ninguno de los dígitos de los números coincide, también debe informarlo al usuario. \n",
        "\n",
        "**Ejemplo:**\n",
        "\n",
        "```\n",
        "Ingrese el primer número: 124646272\n",
        "Ingrese el segundo número: 354849136\n",
        "Los números tienen 2 dígitos(s) en común en la(s) posición(es): [2, 4]\n",
        "```\n",
        "\n",
        "**Recomendación:** pruebe su algoritmo con listas de prueba:\n",
        "- `lst_1`: lista que representa el primer número. \n",
        "- `lst_2`: lista que representa el segundo número. \n",
        "\n",
        "**Nota:** para leer un número ingresado por el usuario y convertirlo en lista puede utilizar las siguientes instrucciones:\n",
        "\n",
        "```python\n",
        "num = input('Número: ')\n",
        "lst = [int(x) for x in num]\n",
        "```"
      ]
    },
    {
      "cell_type": "code",
      "execution_count": 21,
      "id": "85469377",
      "metadata": {
        "id": "85469377",
        "outputId": "be281f1a-955a-45aa-8b2b-5aae967e5065",
        "colab": {
          "base_uri": "https://localhost:8080/"
        }
      },
      "outputs": [
        {
          "output_type": "stream",
          "name": "stdout",
          "text": [
            "Número: 124646272\n",
            "[1, 2, 4, 6, 4, 6, 2, 7, 2]\n",
            "Número: 354849136\n",
            "[3, 5, 4, 8, 4, 9, 1, 3, 6]\n",
            "Los números coinciden en los índices: [2, 4]\n"
          ]
        }
      ],
      "source": [
        "#Se le pide al usuario asignar los 2 números:\n",
        "numero = input('Número: ')\n",
        "lst = [int(i) for i in numero]\n",
        "print(lst)\n",
        "numero_2 = input('Número: ')\n",
        "lst_2 = [int(i) for i in numero_2]\n",
        "print(lst_2)\n",
        "#Se condiciona a que los números deben tener la misma longitud:\n",
        "if len(lst) != len(lst_2):\n",
        "    print(\"Los números deben de tener la misma longitud, por favor intente de nuevo.\")\n",
        "else:\n",
        "  digitos_idénticos = [int(o) for o in numero]\n",
        "  digitos_idénticos2= [int(o) for o in numero_2]\n",
        "#Se crea una lista para añadir las coincidencias que se encuentren en los índices:\n",
        "  valores_similares = []\n",
        "#Se define si existen números en dígitos iguales y se añaden a la lista creada anteriormente:\n",
        "  for e in range(len(digitos_idénticos)):\n",
        "    if digitos_idénticos[e] == digitos_idénticos2[e]:\n",
        "            valores_similares.append(e)\n",
        "#Finalmente,se condiciona si existen o no :\n",
        "  if valores_similares  == 0:\n",
        "    print(\"No hubo coindicencias en los 2 números\")\n",
        "  else:\n",
        "    print(\"Los números coinciden en los índices:\", valores_similares)"
      ]
    },
    {
      "cell_type": "code",
      "execution_count": null,
      "id": "fdf35177",
      "metadata": {
        "id": "fdf35177"
      },
      "outputs": [],
      "source": []
    }
  ],
  "metadata": {
    "kernelspec": {
      "display_name": "Python 3 (ipykernel)",
      "language": "python",
      "name": "python3"
    },
    "language_info": {
      "codemirror_mode": {
        "name": "ipython",
        "version": 3
      },
      "file_extension": ".py",
      "mimetype": "text/x-python",
      "name": "python",
      "nbconvert_exporter": "python",
      "pygments_lexer": "ipython3",
      "version": "3.10.6"
    },
    "colab": {
      "provenance": []
    }
  },
  "nbformat": 4,
  "nbformat_minor": 5
}